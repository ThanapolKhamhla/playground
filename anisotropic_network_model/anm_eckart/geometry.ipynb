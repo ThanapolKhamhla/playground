{
 "cells": [
  {
   "cell_type": "markdown",
   "id": "5b54ad9d",
   "metadata": {},
   "source": [
    "## Centre of mass and COM-centred coordinates\n",
    "\n",
    "We have a molecule with $N$ atoms.\n",
    "\n",
    "- Atom $i$ has mass $m_i$ and Cartesian position $\\mathbf{R}_i \\in \\mathbb{R}^3$.\n",
    "- The total mass is\n",
    "$$\n",
    "M_{\\text{tot}} = \\sum_{i=1}^{N} m_i.\n",
    "$$\n",
    "\n",
    "### Centre of mass (COM)\n",
    "The position of the centre of mass is\n",
    "$$\n",
    "\\mathbf{R}_{\\text{COM}} = \\frac{1}{M_{\\text{tot}}} \\sum_{i=1}^{N} m_i \\, \\mathbf{R}_i.\n",
    "$$"
   ]
  },
  {
   "cell_type": "code",
   "execution_count": 2,
   "id": "13a8886e",
   "metadata": {},
   "outputs": [],
   "source": [
    "from __future__ import annotations\n",
    "from typing import Tuple\n",
    "import numpy as np"
   ]
  },
  {
   "cell_type": "code",
   "execution_count": 3,
   "id": "8a36dc87",
   "metadata": {},
   "outputs": [],
   "source": [
    "def center_of_mass(R: np.ndarray, masses: np.ndarray) -> np.ndarray:\n",
    "    \"\"\"\n",
    "    Compute the centre of mass (COM).\n",
    "\n",
    "    Args:\n",
    "        R: (N,3) Cartesian coordinates [Å].\n",
    "        masses: (N,) atomic masses [amu or any consistent unit].\n",
    "\n",
    "    Returns:\n",
    "        com: (3,) COM coordinates [Å].\n",
    "    \"\"\"\n",
    "    R = np.asarray(R, dtype=float)\n",
    "    masses = np.asarray(masses, dtype=float)\n",
    "\n",
    "    if R.ndim != 2 or R.shape[1] != 3:\n",
    "        raise ValueError(\"R must have shape (N,3)\")\n",
    "    if masses.shape != (R.shape[0],):\n",
    "        raise ValueError(\"masses must have shape (N,)\")\n",
    "\n",
    "    Mtot = np.sum(masses)\n",
    "    if Mtot == 0.0:\n",
    "        raise ValueError(\"Total mass is zero, cannot compute COM\")\n",
    "\n",
    "    com = (masses[:, None] * R).sum(axis=0) / Mtot\n",
    "    return com"
   ]
  },
  {
   "cell_type": "markdown",
   "id": "b8b94eaa",
   "metadata": {},
   "source": [
    "\n",
    "### COM-centred coordinates\n",
    "We define coordinates relative to the COM:\n",
    "$$\n",
    "\\mathbf{r}_i = \\mathbf{R}_i - \\mathbf{R}_{\\text{COM}}.\n",
    "$$\n",
    "\n",
    "Stacking these for all atoms gives a new geometry with the COM at the origin:\n",
    "$$\n",
    "\\{\\mathbf{r}_1, \\mathbf{r}_2, \\ldots, \\mathbf{r}_N\\}.\n",
    "$$\n",
    "\n",
    "`shift_to_com()` returns $(\\mathbf{r}_i)$ and also the original $\\mathbf{R}_{\\text{COM}}$.\n"
   ]
  },
  {
   "cell_type": "code",
   "execution_count": 4,
   "id": "491d7006",
   "metadata": {},
   "outputs": [],
   "source": [
    "def shift_to_com(R: np.ndarray, masses: np.ndarray) -> Tuple[np.ndarray, np.ndarray]:\n",
    "    \"\"\"\n",
    "    Return coordinates with COM at the origin.\n",
    "\n",
    "    Args:\n",
    "        R: (N,3) Cartesian coordinates [Å].\n",
    "        masses: (N,) masses.\n",
    "\n",
    "    Returns:\n",
    "        Rc: (N,3) COM-centred coordinates, i.e. R - COM.\n",
    "        com: (3,) original COM.\n",
    "    \"\"\"\n",
    "    com = center_of_mass(R, masses)\n",
    "    Rc = np.asarray(R, dtype=float) - com[None, :]\n",
    "    return Rc, com"
   ]
  },
  {
   "cell_type": "markdown",
   "id": "e8880f23",
   "metadata": {},
   "source": [
    "## Testing"
   ]
  },
  {
   "cell_type": "code",
   "execution_count": 8,
   "id": "93dfdcca",
   "metadata": {},
   "outputs": [
    {
     "name": "stdout",
     "output_type": "stream",
     "text": [
      "Name:  H2O\n",
      "Original COM:\n",
      " [0.       0.       0.052531]\n",
      "Recomputed COM from Rc:\n",
      " [0.00000000e+00 0.00000000e+00 1.23255401e-17]\n"
     ]
    }
   ],
   "source": [
    "import numpy as np\n",
    "from ase.build import molecule\n",
    "\n",
    "target = 'H2O'\n",
    "atoms = molecule(target)\n",
    "symbols = atoms.get_chemical_symbols()\n",
    "R = atoms.get_positions() \n",
    "\n",
    "masses = atoms.get_masses() \n",
    "\n",
    "com = center_of_mass(R, masses)\n",
    "Rc, com2 = shift_to_com(R, masses)\n",
    "\n",
    "print(\"Name: \",target)\n",
    "print(\"Original COM:\\n\", com)\n",
    "print(\"Recomputed COM from Rc:\\n\", center_of_mass(Rc, masses)) # This second COM should be [0,0,0]"
   ]
  },
  {
   "cell_type": "markdown",
   "id": "a1c004d8",
   "metadata": {},
   "source": [
    "## Build rigid basis vectors (translations + rotations around COM)"
   ]
  },
  {
   "cell_type": "code",
   "execution_count": 9,
   "id": "cc3fc3b9",
   "metadata": {},
   "outputs": [],
   "source": [
    "def rigid_translation_vectors(N: int) -> np.ndarray:\n",
    "    T = np.zeros((3*N, 3), float)\n",
    "    for a in range(3):\n",
    "        for i in range(N):\n",
    "            T[3*i + a, a] = 1.0\n",
    "    return T"
   ]
  },
  {
   "cell_type": "code",
   "execution_count": 10,
   "id": "1599dd78",
   "metadata": {},
   "outputs": [],
   "source": [
    "def rigid_rotation_vectors(Rc: np.ndarray) -> np.ndarray:\n",
    "    N = Rc.shape[0]\n",
    "    Rot = np.zeros((3*N, 3), float)\n",
    "    axes = np.eye(3)\n",
    "    for a in range(3):\n",
    "        for i in range(N):\n",
    "            Rot[3*i:3*i+3, a] = np.cross(axes[a], Rc[i])\n",
    "    return Rot"
   ]
  },
  {
   "cell_type": "code",
   "execution_count": null,
   "id": "a94137f9",
   "metadata": {},
   "outputs": [],
   "source": []
  }
 ],
 "metadata": {
  "kernelspec": {
   "display_name": "venv",
   "language": "python",
   "name": "python3"
  },
  "language_info": {
   "codemirror_mode": {
    "name": "ipython",
    "version": 3
   },
   "file_extension": ".py",
   "mimetype": "text/x-python",
   "name": "python",
   "nbconvert_exporter": "python",
   "pygments_lexer": "ipython3",
   "version": "3.13.6"
  }
 },
 "nbformat": 4,
 "nbformat_minor": 5
}
