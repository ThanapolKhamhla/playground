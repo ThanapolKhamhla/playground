{
 "cells": [
  {
   "cell_type": "code",
   "execution_count": null,
   "id": "e3843d79",
   "metadata": {},
   "outputs": [],
   "source": [
    "import numpy as np\n",
    "from typing import List, Tuple, Iterable\n",
    "from ase.data import atomic_masses, covalent_radii, atomic_numbers\n",
    "from ase.neighborlist import natural_cutoffs, NeighborList"
   ]
  },
  {
   "cell_type": "code",
   "execution_count": 3,
   "id": "bd45f381",
   "metadata": {},
   "outputs": [],
   "source": [
    "def get_masses(symbols: Iterable[str]) -> np.ndarray:\n",
    "    \"\"\"Return masses (amu) for each element symbol.\"\"\"\n",
    "    out = []\n",
    "    for s in symbols:\n",
    "        Z = atomic_numbers[s]\n",
    "        out.append(float(atomic_masses[Z]))\n",
    "    return np.array(out, float)\n",
    "    \n",
    "def get_covalent_radii(symbols: Iterable[str]) -> np.ndarray:\n",
    "    \"\"\"Return covalent radii (Å) for each element symbol.\"\"\"\n",
    "    out = []\n",
    "    for s in symbols:\n",
    "        Z = atomic_numbers[s]\n",
    "        out.append(float(covalent_radii[Z]))\n",
    "    return np.array(out, float)"
   ]
  },
  {
   "cell_type": "markdown",
   "id": "36dbc9d4",
   "metadata": {},
   "source": [
    "## Bond inference\n",
    "\n",
    "infer covalent bonds from geometry using a distance threshold based on covalent radii.\n",
    "\n",
    "$$\n",
    "d_{ij} \\le r_i^{(\\mathrm{cut})} + r_j^{(\\mathrm{cut})},\\quad r_k^{(\\mathrm{cut})} = \\text{scale}\\times r_{\\mathrm{cov}}(Z_k).\n",
    "$$"
   ]
  },
  {
   "cell_type": "code",
   "execution_count": 36,
   "id": "383a1214",
   "metadata": {},
   "outputs": [],
   "source": [
    "def guess_bonds(symbols: List[str], coords: np.ndarray, scale: float = 1.20, use_ase: bool = True) -> List[Tuple[int, int]]:\n",
    "    \"\"\"\n",
    "    Infer bonds by distance threshold relative to covalent radii.\n",
    "    Returns list of (i,j) with i<j.\n",
    "    \"\"\"\n",
    "    n = len(symbols)\n",
    "    if coords.shape != (n, 3):\n",
    "        raise ValueError(\"coords must be shape (N,3)\")\n",
    "\n",
    "    from ase import Atoms\n",
    "    atoms = Atoms(symbols=symbols, positions=coords)\n",
    "    cutoffs = natural_cutoffs(atoms, mult = scale)\n",
    "    nl = NeighborList(cutoffs, self_interaction=False, bothways=True)\n",
    "    nl.update(atoms)\n",
    "    edges = []\n",
    "    for i in range(n):\n",
    "        idxs, offsets = nl.get_neighbors(i)\n",
    "        for j in idxs:\n",
    "            if i < j:\n",
    "                edges.append((i, j.item()))\n",
    "    return edges"
   ]
  },
  {
   "cell_type": "markdown",
   "id": "5ba12ff1",
   "metadata": {},
   "source": [
    "## Demo\n",
    "\n"
   ]
  },
  {
   "cell_type": "code",
   "execution_count": 39,
   "id": "6f044352",
   "metadata": {},
   "outputs": [
    {
     "name": "stdout",
     "output_type": "stream",
     "text": [
      "Name:  H2O\n",
      "N atoms: 3\n",
      "atoms: ['O', 'H', 'H']\n",
      "coords (Å):\n",
      " [[ 0.        0.        0.119262]\n",
      " [ 0.        0.763239 -0.477047]\n",
      " [ 0.       -0.763239 -0.477047]]\n",
      "masses (amu): [15.999  1.008  1.008]\n",
      "edges: [(0, 1), (0, 2), (1, 2)]\n"
     ]
    }
   ],
   "source": [
    "from ase.build import molecule\n",
    "\n",
    "target = 'H2O'\n",
    "atoms = molecule(target); \n",
    "symbols = atoms.get_chemical_symbols()\n",
    "coords = atoms.get_positions()       # (N,3) Å\n",
    "masses = atoms.get_masses()          # (N,) amu\n",
    "\n",
    "edges = guess_bonds(symbols, coords, scale=1.50)\n",
    "\n",
    "print(\"Name: \",target)\n",
    "print(\"N atoms:\", len(symbols))\n",
    "print(\"atoms:\", symbols)\n",
    "print(\"coords (Å):\\n\", coords)\n",
    "print(\"masses (amu):\", masses)\n",
    "print(\"edges:\", edges)\n"
   ]
  }
 ],
 "metadata": {
  "kernelspec": {
   "display_name": "venv",
   "language": "python",
   "name": "python3"
  },
  "language_info": {
   "codemirror_mode": {
    "name": "ipython",
    "version": 3
   },
   "file_extension": ".py",
   "mimetype": "text/x-python",
   "name": "python",
   "nbconvert_exporter": "python",
   "pygments_lexer": "ipython3",
   "version": "3.13.6"
  }
 },
 "nbformat": 4,
 "nbformat_minor": 5
}
