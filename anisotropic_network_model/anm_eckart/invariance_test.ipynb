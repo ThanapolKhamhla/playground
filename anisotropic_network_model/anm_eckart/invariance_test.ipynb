{
 "cells": [
  {
   "cell_type": "code",
   "execution_count": 1,
   "id": "42ef04e4",
   "metadata": {},
   "outputs": [],
   "source": [
    "from __future__ import annotations\n",
    "from typing import Tuple\n",
    "import numpy as np"
   ]
  },
  {
   "cell_type": "markdown",
   "id": "02996121",
   "metadata": {},
   "source": [
    "## Invariance Test\n",
    "Later, in the vibrational solver: \n",
    "1. Build an ANM Hessian $H$ from a geometry.\n",
    "2. Mass-weight it and construct the projector $Q$ to remove rigid-body motion.\n",
    "3. Diagonalise the projected matrix to get eigenvalues.\n",
    "\n",
    "If you take the *same* molecule and just spin it and move it in space (rigid transform), the non-zero vibrational eigenvalues must be identical."
   ]
  },
  {
   "cell_type": "markdown",
   "id": "c2f7cd2c",
   "metadata": {},
   "source": [
    "\n",
    "## Pure rotation\n",
    "\n",
    "A rigid rotation means every atom is rotated about some axis through the COM, without stretching distances.\n",
    "\n",
    "Consider a unit axis $\\hat{\\mathbf{e}}_\\alpha$ (for example, the $x$-, $y$-, or $z$-axis).  \n",
    "For a small rotation about that axis, atom $i$ is displaced by the cross product:\n",
    "$$\n",
    "\\Delta \\mathbf{R}_i^{(\\alpha)} = \\hat{\\mathbf{e}}_\\alpha \\times \\mathbf{r}_i,\n",
    "$$\n",
    "where $\\mathbf{r}_i$ are the COM-centred coordinates.\n",
    "\n",
    "build three such rotational displacement patterns:\n",
    "- rotation about $x$: $\\hat{\\mathbf{e}}_x \\times \\mathbf{r}_i$  \n",
    "- rotation about $y$: $\\hat{\\mathbf{e}}_y \\times \\mathbf{r}_i$  \n",
    "- rotation about $z$: $\\hat{\\mathbf{e}}_z \\times \\mathbf{r}_i$\n",
    "\n",
    "Stacking those for all atoms gives $R_x, R_y, R_z$ — the last three columns of the rigid-body basis matrix $S$.\n"
   ]
  },
  {
   "cell_type": "markdown",
   "id": "3f7e27d1",
   "metadata": {},
   "source": [
    "## Rotation matrix with preset angle"
   ]
  },
  {
   "cell_type": "code",
   "execution_count": 2,
   "id": "cadd0274",
   "metadata": {},
   "outputs": [],
   "source": [
    "def rotation_matrix_from_axis_angle(axis: np.ndarray, theta: float) -> np.ndarray:\n",
    "    \"\"\"\n",
    "    Build a 3x3 rotation matrix from a rotation axis and an angle (right-hand rule).\n",
    "\n",
    "    Uses Rodrigues' rotation formula.\n",
    "\n",
    "    Args:\n",
    "        axis: (3,) rotation axis direction vector (does NOT need to be normalised).\n",
    "        theta: rotation angle [radians].\n",
    "\n",
    "    Returns:\n",
    "        Rmat: (3,3) rotation matrix.\n",
    "    \"\"\"\n",
    "    axis = np.asarray(axis, dtype=float)\n",
    "    if axis.shape != (3,):\n",
    "        raise ValueError(\"axis must be shape (3,)\")\n",
    "\n",
    "    # normalise axis\n",
    "    norm = np.linalg.norm(axis)\n",
    "    if norm == 0.0:\n",
    "        raise ValueError(\"rotation axis has zero length\")\n",
    "    k = axis / norm  # unit vector\n",
    "\n",
    "    kx, ky, kz = k\n",
    "    K = np.array([[0.0, -kz,  ky],\n",
    "                  [kz,  0.0, -kx],\n",
    "                  [-ky, kx,  0.0]], dtype=float)\n",
    "\n",
    "    I = np.eye(3)\n",
    "    ct = np.cos(theta)\n",
    "    st = np.sin(theta)\n",
    "\n",
    "    # Rodrigues formula: R = I cosθ + (1-cosθ) k k^T + sinθ [k]_x\n",
    "    Rmat = ct * I + (1.0 - ct) * np.outer(k, k) + st * K\n",
    "    return Rmat"
   ]
  },
  {
   "cell_type": "markdown",
   "id": "08e18c80",
   "metadata": {},
   "source": [
    "## Rotation matrix with random angle"
   ]
  },
  {
   "cell_type": "code",
   "execution_count": 3,
   "id": "49b77a4e",
   "metadata": {},
   "outputs": [],
   "source": [
    "def random_rotation_matrix(rng: np.random.Generator | None = None) -> np.ndarray:\n",
    "    \"\"\"\n",
    "    Generate a random 3x3 rotation matrix (uniform over SO(3)).\n",
    "\n",
    "    Args:\n",
    "        rng: optional np.random.Generator for reproducibility.\n",
    "\n",
    "    Returns:\n",
    "        Rmat: (3,3) proper rotation matrix with det=+1.\n",
    "    \"\"\"\n",
    "    if rng is None:\n",
    "        rng = np.random.default_rng()\n",
    "\n",
    "    # random unit quaternion (Marsaglia method)\n",
    "    u1 = rng.random()\n",
    "    u2 = rng.random() * 2.0 * np.pi\n",
    "    u3 = rng.random() * 2.0 * np.pi\n",
    "\n",
    "    q0 = np.sqrt(1.0 - u1) * np.sin(u2)\n",
    "    q1 = np.sqrt(1.0 - u1) * np.cos(u2)\n",
    "    q2 = np.sqrt(u1)       * np.sin(u3)\n",
    "    q3 = np.sqrt(u1)       * np.cos(u3)\n",
    "\n",
    "    # quaternion -> rotation matrix\n",
    "    # (x,y,z,w) vs (q0,q1,q2,q3) naming is annoying in literature; here (q0,q1,q2,q3)\n",
    "    x, y, z, w = q0, q1, q2, q3\n",
    "\n",
    "    Rmat = np.array([\n",
    "        [1 - 2*(y*y + z*z),     2*(x*y - z*w),         2*(x*z + y*w)],\n",
    "        [2*(x*y + z*w),         1 - 2*(x*x + z*z),     2*(y*z - x*w)],\n",
    "        [2*(x*z - y*w),         2*(y*z + x*w),         1 - 2*(x*x + y*y)]\n",
    "    ], dtype=float)\n",
    "\n",
    "    return Rmat"
   ]
  },
  {
   "cell_type": "markdown",
   "id": "178c2c98",
   "metadata": {},
   "source": [
    "## Finite rigid transformation on coordinates\n",
    "\n",
    "### Rotation matrix\n",
    "\n",
    "describe rotation with a $3 \\times 3$ matrix $U$ satisfying:\n",
    "$$\n",
    "U^\\top U = I, \\quad \\det(U) = +1.\n",
    "$$\n",
    "\n",
    "Such a matrix rotates a vector without changing its length.\n",
    "\n",
    "To build $U$ from \"axis + angle\", we can use Rodrigues' rotation formula.  \n",
    "Given:\n",
    "- a rotation axis $\\mathbf{k}$,\n",
    "- a rotation angle $\\theta$ (radians),\n",
    "\n",
    "we first normalise\n",
    "$$\n",
    "\\hat{\\mathbf{k}} = \\frac{\\mathbf{k}}{\\|\\mathbf{k}\\|},\n",
    "$$\n",
    "\n",
    "then define the skew-symmetric matrix\n",
    "$$\n",
    "K =\n",
    "\\begin{bmatrix}\n",
    "0 & -k_z & k_y \\\\\n",
    "k_z & 0 & -k_x \\\\\n",
    "-k_y & k_x & 0\n",
    "\\end{bmatrix},\n",
    "$$\n",
    "where $(k_x,k_y,k_z)$ are the components of $\\hat{\\mathbf{k}}$.\n",
    "\n",
    "Rodrigues' formula for the rotation matrix is\n",
    "$$\n",
    "U(\\hat{\\mathbf{k}},\\theta) \n",
    "= I \\cos\\theta\n",
    "+ (1 - \\cos\\theta)\\,\\hat{\\mathbf{k}}\\hat{\\mathbf{k}}^\\top\n",
    "+ \\sin\\theta \\, K.\n",
    "$$\n",
    "\n",
    "### Rigid transform\n",
    "\n",
    "A general rigid transform is:\n",
    "$$\n",
    "\\mathbf{R}_i' = U \\, \\mathbf{R}_i + \\mathbf{t},\n",
    "$$\n",
    "where $U$ is a $3 \\times 3$ rotation matrix and $\\mathbf{t}$ is a $3$-component translation vector. The output is the transformed coordinates $R'$.\n"
   ]
  },
  {
   "cell_type": "code",
   "execution_count": 4,
   "id": "a84ca7a4",
   "metadata": {},
   "outputs": [],
   "source": [
    "def apply_rigid_transform(\n",
    "    R: np.ndarray,\n",
    "    rotation: np.ndarray,\n",
    "    translation: np.ndarray,\n",
    ") -> np.ndarray:\n",
    "    \"\"\"\n",
    "    Apply a global rigid transformation to coordinates:\n",
    "        R' = R * rotation^T + translation\n",
    "    (equivalently translation + rotation acting on each vector)\n",
    "\n",
    "    Args:\n",
    "        R: (N,3) coordinates [Å].\n",
    "        rotation: (3,3) rotation matrix.\n",
    "        translation: (3,) translation vector [Å].\n",
    "\n",
    "    Returns:\n",
    "        R_new: (N,3) transformed coordinates.\n",
    "    \"\"\"\n",
    "    R = np.asarray(R, dtype=float)\n",
    "    rotation = np.asarray(rotation, dtype=float)\n",
    "    translation = np.asarray(translation, dtype=float)\n",
    "\n",
    "    if R.ndim != 2 or R.shape[1] != 3:\n",
    "        raise ValueError(\"R must have shape (N,3)\")\n",
    "    if rotation.shape != (3,3):\n",
    "        raise ValueError(\"rotation must have shape (3,3)\")\n",
    "    if translation.shape != (3,):\n",
    "        raise ValueError(\"translation must have shape (3,)\")\n",
    "\n",
    "    # We can do row-wise dot: R @ rotation.T (so each row is rotated)\n",
    "    R_rot = R @ rotation.T\n",
    "    \n",
    "    return R_rot + translation[None, :]"
   ]
  },
  {
   "cell_type": "code",
   "execution_count": 5,
   "id": "099a36af",
   "metadata": {},
   "outputs": [],
   "source": [
    "def random_rigid_transform(\n",
    "    R: np.ndarray,\n",
    "    rng: np.random.Generator | None = None,\n",
    "    translation_scale: float = 1.0,\n",
    ") -> Tuple[np.ndarray, np.ndarray, np.ndarray]:\n",
    "    \"\"\"\n",
    "    Create and apply a RANDOM rigid transform (random rotation + random translation).\n",
    "    \n",
    "    Args:\n",
    "        R: (N,3) coordinates [Å].\n",
    "        rng: np.random.Generator for reproducibility (optional).\n",
    "        translation_scale: controls how large the random translation is [Å].\n",
    "\n",
    "    Returns:\n",
    "        R_new: (N,3) transformed coordinates.\n",
    "        Rmat: (3,3) rotation actually used.\n",
    "        tvec: (3,) translation actually used.\n",
    "    \"\"\"\n",
    "    if rng is None:\n",
    "        rng = np.random.default_rng()\n",
    "\n",
    "    Rmat = random_rotation_matrix(rng)\n",
    "    \n",
    "    # translation drawn from normal distribution scaled by translation_scale\n",
    "    tvec = rng.normal(loc=0.0, scale=translation_scale, size=(3,))\n",
    "\n",
    "    R_new = apply_rigid_transform(R, Rmat, tvec)\n",
    "    return R_new, Rmat, tvec"
   ]
  },
  {
   "cell_type": "code",
   "execution_count": 6,
   "id": "0e90a0a7",
   "metadata": {},
   "outputs": [
    {
     "ename": "NameError",
     "evalue": "name 'center_of_mass' is not defined",
     "output_type": "error",
     "traceback": [
      "\u001b[31m---------------------------------------------------------------------------\u001b[39m",
      "\u001b[31mNameError\u001b[39m                                 Traceback (most recent call last)",
      "\u001b[36mCell\u001b[39m\u001b[36m \u001b[39m\u001b[32mIn[6]\u001b[39m\u001b[32m, line 10\u001b[39m\n\u001b[32m      6\u001b[39m R = atoms.get_positions() \n\u001b[32m      8\u001b[39m masses = atoms.get_masses() \n\u001b[32m---> \u001b[39m\u001b[32m10\u001b[39m com = \u001b[43mcenter_of_mass\u001b[49m(R, masses)\n\u001b[32m     11\u001b[39m Rc, com2 = shift_to_com(R, masses)\n\u001b[32m     13\u001b[39m \u001b[38;5;28mprint\u001b[39m(\u001b[33m\"\u001b[39m\u001b[33mOriginal COM:\u001b[39m\u001b[38;5;130;01m\\n\u001b[39;00m\u001b[33m\"\u001b[39m, com)\n",
      "\u001b[31mNameError\u001b[39m: name 'center_of_mass' is not defined"
     ]
    }
   ],
   "source": [
    "import numpy as np\n",
    "from ase.build import molecule\n",
    "\n",
    "atoms = molecule('H2O')\n",
    "symbols = atoms.get_chemical_symbols()\n",
    "R = atoms.get_positions() \n",
    "\n",
    "masses = atoms.get_masses() \n",
    "\n",
    "com = center_of_mass(R, masses)\n",
    "Rc, com2 = shift_to_com(R, masses)\n",
    "\n",
    "print(\"Original COM:\\n\", com)\n",
    "print(\"Recomputed COM from Rc:\\n\", center_of_mass(Rc, masses)) # This second COM should be [0,0,0]\n"
   ]
  },
  {
   "cell_type": "code",
   "execution_count": null,
   "id": "dc5e8011",
   "metadata": {},
   "outputs": [
    {
     "name": "stdout",
     "output_type": "stream",
     "text": [
      "Random rotation matrix:\n",
      " [[ 0.56203642 -0.7928661  -0.23553856]\n",
      " [ 0.0841756   0.33812393 -0.93732955]\n",
      " [ 0.82281804  0.50698675  0.25677794]]\n",
      "Random translation vector:\n",
      " [ 0.47760199  1.14171432 -0.75428233]\n",
      "atom after random rigid move:\n",
      " [[ 0.46188427  1.07916538 -0.73714728]\n",
      " [-0.0028083   1.89617279 -0.50331422]\n",
      " [ 1.20748436  1.38003406 -1.27721834]]\n"
     ]
    }
   ],
   "source": [
    "R_rand, U_rand, t_rand = random_rigid_transform(Rc, translation_scale=1.0)\n",
    "print(\"Random rotation matrix:\\n\", U_rand)\n",
    "print(\"Random translation vector:\\n\", t_rand)\n",
    "print(\"atom after random rigid move:\\n\", R_rand)"
   ]
  },
  {
   "cell_type": "markdown",
   "id": "eb454cf1",
   "metadata": {},
   "source": [
    "## Testing\n",
    "Rigid motion must not change internal distances.\n",
    "\n",
    "For any $i,j$:\n",
    "$$\n",
    "|\\mathbf{R}_i - \\mathbf{R}_j| = |\\mathbf{R}_i’ - \\mathbf{R}_j’|.\n",
    "$$"
   ]
  },
  {
   "cell_type": "code",
   "execution_count": null,
   "id": "6c8fc220",
   "metadata": {},
   "outputs": [
    {
     "name": "stdout",
     "output_type": "stream",
     "text": [
      "Max change in pairwise distances: 1.1102230246251565e-16\n"
     ]
    }
   ],
   "source": [
    "def pairwise_distances(R):\n",
    "    N = R.shape[0]\n",
    "    D = np.zeros((N,N))\n",
    "    for i in range(N):\n",
    "        for j in range(N):\n",
    "            D[i,j] = np.linalg.norm(R[i] - R[j])\n",
    "    return D"
   ]
  },
  {
   "cell_type": "code",
   "execution_count": null,
   "id": "2314f713",
   "metadata": {},
   "outputs": [],
   "source": [
    "D0 = pairwise_distances(R)\n",
    "D1 = pairwise_distances(R_rand)\n",
    "\n",
    "print(\"Max change in pairwise distances:\", np.max(np.abs(D0 - D1))) # This should be ~0 (floating-point ~1e-12)"
   ]
  },
  {
   "cell_type": "code",
   "execution_count": null,
   "id": "68290a6c",
   "metadata": {},
   "outputs": [],
   "source": []
  }
 ],
 "metadata": {
  "kernelspec": {
   "display_name": "venv",
   "language": "python",
   "name": "python3"
  },
  "language_info": {
   "codemirror_mode": {
    "name": "ipython",
    "version": 3
   },
   "file_extension": ".py",
   "mimetype": "text/x-python",
   "name": "python",
   "nbconvert_exporter": "python",
   "pygments_lexer": "ipython3",
   "version": "3.13.6"
  }
 },
 "nbformat": 4,
 "nbformat_minor": 5
}
