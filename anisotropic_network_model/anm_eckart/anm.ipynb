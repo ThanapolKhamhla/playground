{
 "cells": [
  {
   "cell_type": "markdown",
   "id": "1361d9c5",
   "metadata": {},
   "source": [
    "# ANM (Anisotropic Network Model)\n",
    "\n",
    "## Directional springs along interatomic lines\n",
    "\n",
    "For each connected pair $(i,j)$:\n",
    "- Relative vector: $\\mathbf{d}_{ij}=\\mathbf{R}_j-\\mathbf{R}_i$, distance $d_{ij}=\\|\\mathbf{d}_{ij}\\|$, unit $\\hat{\\mathbf{r}}_{ij}=\\mathbf{d}_{ij}/d_{ij}$.\n",
    "- Spring resists stretching along $\\hat{\\mathbf{r}}_{ij}$ (no transverse resistance).\n",
    "- Stiffness $k_{ij}\\ge 0$.\n",
    "\n",
    "Off-diagonal $3\\times3$ block for $i\\ne j$:\n",
    "$$\n",
    "H_{ij} = -\\,k_{ij}\\, \\hat{\\mathbf{r}}_{ij}\\hat{\\mathbf{r}}_{ij}^{\\top}.\n",
    "$$\n",
    "\n",
    "Diagonal blocks enforce force balance:\n",
    "$$\n",
    "H_{ii} = -\\sum_{j\\ne i} H_{ij}.\n",
    "$$\n",
    "\n",
    "Properties:\n",
    "- $H$ is symmetric and positive semidefinite.\n",
    "- Translations and rotations are null; later.\n"
   ]
  },
  {
   "cell_type": "code",
   "execution_count": 2,
   "id": "5a1b693a",
   "metadata": {},
   "outputs": [],
   "source": [
    "from typing import Callable, List, Tuple\n",
    "import numpy as np\n",
    "\n",
    "def build_anm_hessian(\n",
    "    R: np.ndarray,\n",
    "    edges: List[Tuple[int, int]],\n",
    "    kmap: Callable[[int, int], float] | float = 1.0,\n",
    ") -> np.ndarray:\n",
    "    \"\"\"Build 3N x 3N ANM stiffness matrix H.\"\"\"\n",
    "    R = np.asarray(R, float)\n",
    "    N = R.shape[0]\n",
    "    H = np.zeros((3*N, 3*N), float)\n",
    "    if callable(kmap):\n",
    "        kfun = kmap\n",
    "    else:\n",
    "        const_k = float(kmap)\n",
    "        kfun = lambda i, j: const_k\n",
    "    for (i, j) in edges:\n",
    "        rij = R[j] - R[i]\n",
    "        d = float(np.linalg.norm(rij))\n",
    "        if d == 0.0:\n",
    "            continue\n",
    "        u = rij / d\n",
    "        kij = float(kfun(i, j))\n",
    "        K = -kij * np.outer(u, u)\n",
    "        H[3*i:3*i+3, 3*j:3*j+3] += K\n",
    "        H[3*j:3*j+3, 3*i:3*i+3] += K.T\n",
    "        H[3*i:3*i+3, 3*i:3*i+3] -= K\n",
    "        H[3*j:3*j+3, 3*j:3*j+3] -= K\n",
    "    H = 0.5 * (H + H.T)\n",
    "    return H\n"
   ]
  },
  {
   "cell_type": "markdown",
   "id": "67294d85",
   "metadata": {},
   "source": [
    "## Testing\n",
    "\n",
    "- Geometry and edges (O–H bonds),\n",
    "- Build $H$,\n",
    "- Check symmetry and near-null rigid motions,\n",
    "- Inspect eigenvalues (expect ~6 near 0, 3 positive).\n"
   ]
  },
  {
   "cell_type": "code",
   "execution_count": 4,
   "id": "066a86b4",
   "metadata": {},
   "outputs": [
    {
     "name": "stdout",
     "output_type": "stream",
     "text": [
      "Name:  H2O\n",
      "N atoms: 3\n",
      "atoms: ['O', 'H', 'H']\n",
      "coords (Å):\n",
      " [[ 0.        0.        0.119262]\n",
      " [ 0.        0.763239 -0.477047]\n",
      " [ 0.       -0.763239 -0.477047]]\n",
      "masses (amu): [15.999  1.008  1.008]\n",
      "edges: [(0, 1), (0, 2), (1, 2)]\n",
      "Name:  H2O\n",
      "Original COM:\n",
      " [0.       0.       0.052531]\n",
      "Recomputed COM from Rc:\n",
      " [0.00000000e+00 0.00000000e+00 1.23255401e-17]\n",
      "Name:  H2O\n",
      "Original COM:\n",
      " [0.       0.       0.052531]\n",
      "Recomputed COM from Rc:\n",
      " [0.00000000e+00 0.00000000e+00 1.23255401e-17]\n",
      "Name:  H2O\n",
      "original atom:\n",
      " [[ 0.        0.        0.119262]\n",
      " [ 0.        0.763239 -0.477047]\n",
      " [ 0.       -0.763239 -0.477047]]\n",
      "atom before random rigid move:\n",
      " [[ 0.        0.        0.066731]\n",
      " [ 0.        0.763239 -0.529578]\n",
      " [ 0.       -0.763239 -0.529578]]\n",
      "Random rotation matrix:\n",
      " [[-0.48146442 -0.47052726  0.73945663]\n",
      " [ 0.87638925 -0.2695883   0.39907898]\n",
      " [ 0.01157132  0.84019417  0.5421622 ]]\n",
      "Random translation vector:\n",
      " [-0.5748316  -0.42566182 -0.08281721]\n",
      "atom after random rigid move:\n",
      " [[-0.52548692 -0.39903088 -0.04663818]\n",
      " [-1.32555631 -0.84276558  0.27133458]\n",
      " [-0.60730681 -0.43124497 -1.01120335]]\n",
      "Max change in pairwise distances: 2.220446049250313e-16\n"
     ]
    }
   ],
   "source": [
    "%run io.ipynb\n",
    "%run geometry.ipynb\n",
    "%run invariance_test.ipynb"
   ]
  },
  {
   "cell_type": "markdown",
   "id": "48938be4",
   "metadata": {},
   "source": [
    "For a uniform translation $\\Delta\\mathbf R_i=\\mathbf a$ for all $i$,\n",
    "$$\n",
    "\\Delta\\mathbf R_j-\\Delta\\mathbf R_i=\\mathbf 0\n",
    ";\\Rightarrow;\n",
    "\\hat{\\mathbf u}_{ij}\\cdot(\\Delta\\mathbf R_j-\\Delta\\mathbf R_i)=0\n",
    ";\\Rightarrow;\n",
    "E=0.\n",
    "$$\n",
    "\n",
    "Therefore each translational direction $\\mathbf t^{(x)},\\mathbf t^{(y)},\\mathbf t^{(z)}$ satisfies\n",
    "$$\n",
    "H,\\mathbf t^{(a)}=\\mathbf 0,\\qquad a\\in{x,y,z},\n",
    "$$\n",
    "so the matrix of translations $T=[\\mathbf t^{(x)}\\ \\mathbf t^{(y)}\\ \\mathbf t^{(z)}]$ obeys\n",
    "$$\n",
    "|H,T|_\\infty \\approx 0.\n",
    "$$\n"
   ]
  },
  {
   "cell_type": "markdown",
   "id": "001ab8ef",
   "metadata": {},
   "source": [
    "Use COM-centred coordinates $\\mathbf r_i=\\mathbf R_i-\\mathbf R_{\\mathrm{COM}}$. A small rigid rotation with angular vector $\\boldsymbol\\Omega$ gives\n",
    "$$\n",
    "\\Delta\\mathbf R_i=\\boldsymbol\\Omega\\times \\mathbf r_i.\n",
    "$$\n",
    "For an edge $(i,j)$ with chord $\\mathbf d_{ij}=\\mathbf r_j-\\mathbf r_i$ (parallel to $\\hat{\\mathbf u}{ij}$),\n",
    "$$\n",
    "\\Delta\\mathbf R_j-\\Delta\\mathbf R_i=\\boldsymbol\\Omega\\times \\mathbf d{ij},\n",
    "$$\n",
    "and the longitudinal projection entering the energy is\n",
    "$$\n",
    "\\hat{\\mathbf u}{ij}\\cdot(\\boldsymbol\\Omega\\times \\mathbf d{ij})\n",
    "= (\\hat{\\mathbf u}{ij}\\times \\boldsymbol\\Omega)\\cdot \\mathbf d{ij}\n",
    "= (\\hat{\\mathbf u}{ij}\\times \\boldsymbol\\Omega)\\cdot \\big(\\lVert \\mathbf d{ij}\\rVert \\hat{\\mathbf u}{ij}\\big)\n",
    "= 0,\n",
    "$$\n",
    "since $\\hat{\\mathbf u}{ij}\\times \\boldsymbol\\Omega \\perp \\hat{\\mathbf u}{ij}$. Hence $E=0$ for any rigid rotation, and with $\\mathrm{Rot}\\in\\mathbb R^{3N\\times 3}$ collecting the three rotation directions,\n",
    "$$\n",
    "|H,\\mathrm{Rot}|\\infty \\approx 0.\n",
    "$$\n"
   ]
  },
  {
   "cell_type": "code",
   "execution_count": null,
   "id": "1a91f3f1",
   "metadata": {},
   "outputs": [
    {
     "name": "stdout",
     "output_type": "stream",
     "text": [
      "Symmetry error ||H-H^T||_inf: 0.0\n",
      "||H @ translations||: 0.0\n",
      "||H @ rotations||: 1.2373361711366492e-16\n"
     ]
    }
   ],
   "source": [
    "import numpy.linalg as LA\n",
    "import numpy as np\n",
    "from ase.build import molecule\n",
    "\n",
    "atoms = molecule('H2O')\n",
    "symbols = atoms.get_chemical_symbols()\n",
    "R = atoms.get_positions()       # (N,3) Å\n",
    "masses = atoms.get_masses()          # (N,) amu\n",
    "\n",
    "edges = guess_bonds(symbols, R, scale=1.2) # from io.ipynb\n",
    "\n",
    "H = build_anm_hessian(R, edges, kmap=1.0)\n",
    "\n",
    "sym_err = LA.norm(H - H.T, ord=np.inf)\n",
    "\n",
    "Rc, _ = shift_to_com(R, masses) # from geometry.ipynb\n",
    "T = rigid_translation_vectors(N=R.shape[0]) # from geometry.ipynb\n",
    "Rot = rigid_rotation_vectors(Rc) # from geometry.ipynb\n",
    "\n",
    "res_T = LA.norm(H @ T, ord=np.inf)\n",
    "res_R = LA.norm(H @ Rot, ord=np.inf)\n",
    "\n",
    "print(\"Symmetry error ||H-H^T||_inf:\", sym_err)\n",
    "print(\"||H @ translations||:\", res_T)\n",
    "print(\"||H @ rotations||:\", res_R)\n"
   ]
  },
  {
   "cell_type": "code",
   "execution_count": null,
   "id": "51fa6554",
   "metadata": {},
   "outputs": [
    {
     "name": "stdout",
     "output_type": "stream",
     "text": [
      "Eigenvalues: [-1.20842525e-16 -7.94498982e-17 -1.24802339e-17  0.00000000e+00\n",
      "  1.26659237e-33  4.06674948e-17  1.22355621e-16  1.75808022e+00\n",
      "  2.24191978e+00]\n"
     ]
    }
   ],
   "source": [
    "w = np.sort(LA.eigvalsh(H))\n",
    "print(\"Eigenvalues:\", w)"
   ]
  }
 ],
 "metadata": {
  "kernelspec": {
   "display_name": "venv",
   "language": "python",
   "name": "python3"
  },
  "language_info": {
   "codemirror_mode": {
    "name": "ipython",
    "version": 3
   },
   "file_extension": ".py",
   "mimetype": "text/x-python",
   "name": "python",
   "nbconvert_exporter": "python",
   "pygments_lexer": "ipython3",
   "version": "3.13.6"
  }
 },
 "nbformat": 4,
 "nbformat_minor": 5
}
